{
 "cells": [
  {
   "cell_type": "markdown",
   "id": "48b89b67",
   "metadata": {},
   "source": [
    "## Description of the Project:\n",
    "### Background of the project:\n",
    "This project entails the execution of an A/B test to assess the efficacy of a promotional banner highlighting GloBox's food and drink products on the company's e-commerce website. GloBox is an online marketplace renowned for its niche fashion items and upscale decor products, sourcing exceptional items from across the globe to provide customers with a unique shopping experience. In recent months, GloBox has expanded its food and beverage offerings and aims to elevate the category's revenue by raising awareness through a targeted marketing campaign.\n",
    "\n",
    "![AD Campaign of Glovo](campaign.png)\n",
    "\n",
    "\n",
    "### Context:\n",
    "GloBox is an e-commerce company that has expanded its food and drink offerings and wants to bring greater awareness to this product category to increase revenue. The Growth team has proposed an A/B test to compare the performance of the company's website, with and without a promotional banner highlighting key food and drink products.\n",
    "\n",
    "### Objective:\n",
    "The <font color='orange'>**objective of this project is to increase revenue for GloBox's food and drink product category through an A/B test that aims to determine whether the presence of a promotional banner on the website's landing page can significantly influence customer purchase behavior**.</font>The team hopes to identify the version of the website that performs better in driving sales for the food and drink category, thus aiding in the formulation of an effective marketing strategy.\n",
    "\n",
    "To achieve this objective, the Growth team has proposed an A/B test to showcase key products in the food and drink category by featuring a banner at the top of the website. The control group will not be exposed to the promotional banner, while the test group will see it. The experiment aims to determine whether the presence of the banner can significantly influence the purchase of food and drink products. By analyzing the results of the A/B test, the team hopes to identify the version of the website that performs better in driving sales for food and drink products, thus aiding in the formulation of an effective marketing strategy.\n",
    "\n",
    "### The dataset:\n",
    "The dataset for this project was obtained from a relational database accessed through the online database management platform, bit.io. Specifically, the GloBox e-commerce company's data was used, consisting of three tables - users, groups, and activity - which were explored to understand their structure. To consolidate the tables and ensure that all users were assigned to one A/B test group, SQL was used to compile the data into a single dataset. The compiled dataset was then exported in CSV format as 'Compiled_dataset.csv' for further analysis using Python. It should be noted that not all users in the dataset made a purchase, which is an important consideration for the analysis.\n",
    "\n",
    "\n",
    "In the dataset, there were 48,943 unique participants, which were divided into two distinct groups. The first group, known as the control group, consisted of 24,343 participants who experienced the existing website without the banner. The second group, known as the treatment group, comprised 24,600 participants who were exposed to the website with the banner.\n",
    "\n",
    "\n",
    "### The A/B test setup entails the following steps:\n",
    "\n",
    "**Firstly**, the experiment is exclusively being conducted on GloBox's mobile website to ensure consistency and accuracy of the results. \n",
    "\n",
    "**Secondly**, upon visiting the GloBox main page, each user is randomly assigned to either the control or test group, which serves as their join date for the experiment.\n",
    "\n",
    "**Thirdly**, the website landing page loads the promotional banner for the test group, while it does not load for the control group.\n",
    "\n",
    "**Fourthly**, users may purchase products from the website at any time following their assignment to the test or control group. Any such purchases are considered a \"conversion\".\n",
    "\n",
    "By implementing these steps, the A/B test aims to identify which version of the website, with or without the banner, drives greater conversions and generates more revenue for GloBox's food and drink product category.\n",
    "\n",
    "### Project deliverables:\n",
    "The project deliverables are as follows:\n",
    "\n",
    "**Analysis Plan:** A detailed analysis plan that will be reviewed and approved by the team. This plan will outline the approach, methodology, and statistical tests used to analyze the A/B test results.\n",
    "\n",
    "**A/B Test Results:** A comprehensive report that analyzes the A/B test results to determine whether or not the experiment was successful. This report will include a summary of the key performance indicators (KPIs) used to measure success, such as conversion rates, revenue generated, and any other relevant metrics.\n",
    "\n",
    "**Presentation:** A recorded presentation that summarizes the A/B test results and provides recommendations for improving the company's marketing strategy based on the findings. The presentation will include visual aids, such as charts and graphs, to illustrate the results of the A/B test.\n",
    "\n",
    "Overall, these deliverables will provide the GloBox team with valuable insights into the performance of their food and drink product category and inform their future marketing efforts.\n",
    "\n",
    "\n",
    "### Recommendations:\n",
    "\n",
    "Based on our analysis, while the conversion rate shows statistical significance, we would advise against launching the banner on the website. Our recommendation is based on the fact that the observed change in the average amount per user spent, resulting from the conversion rate, is not statistically significant enough to yield a substantial increase in sales. Therefore, we propose either not launching the banner or conducting another test with a larger sample size to arrive at a more definitive conclusion.\n"
   ]
  },
  {
   "cell_type": "markdown",
   "id": "98fb5615",
   "metadata": {},
   "source": [
    "### Importing necessary Libraries for Analysing the Dataset"
   ]
  },
  {
   "cell_type": "code",
   "execution_count": 1,
   "id": "0638e24b",
   "metadata": {},
   "outputs": [],
   "source": [
    "import pandas as pd\n",
    "import numpy as np\n",
    "import math as m\n",
    "from scipy.stats import t\n",
    "from scipy import stats as s\n",
    "from scipy.stats import norm\n",
    "import matplotlib.pyplot as plt"
   ]
  },
  {
   "cell_type": "markdown",
   "id": "612c8097",
   "metadata": {},
   "source": [
    "### Loading the Dataset:\n",
    "#### Data Collection and Preparation Process for GloBox A/B Test Project\n",
    "The dataset for this project was obtained from a relational database accessed through the online database management platform, bit.io. Specifically, the GloBox e-commerce company's data was used, consisting of three tables - users, groups, and activity - which were explored to understand their structure. To consolidate the tables and ensure that all users were assigned to one A/B test group, SQL was used to compile the data into a single dataset. The compiled dataset was then exported in CSV format as 'Compiled_dataset.csv' for further analysis using Python. It should be noted that not all users in the dataset made a purchase, which is an important consideration for the analysis."
   ]
  },
  {
   "cell_type": "code",
   "execution_count": 2,
   "id": "d0776605",
   "metadata": {},
   "outputs": [
    {
     "data": {
      "text/html": [
       "<div>\n",
       "<style scoped>\n",
       "    .dataframe tbody tr th:only-of-type {\n",
       "        vertical-align: middle;\n",
       "    }\n",
       "\n",
       "    .dataframe tbody tr th {\n",
       "        vertical-align: top;\n",
       "    }\n",
       "\n",
       "    .dataframe thead th {\n",
       "        text-align: right;\n",
       "    }\n",
       "</style>\n",
       "<table border=\"1\" class=\"dataframe\">\n",
       "  <thead>\n",
       "    <tr style=\"text-align: right;\">\n",
       "      <th></th>\n",
       "      <th>uid</th>\n",
       "      <th>group</th>\n",
       "      <th>join_dt</th>\n",
       "      <th>device</th>\n",
       "      <th>id</th>\n",
       "      <th>country</th>\n",
       "      <th>gender</th>\n",
       "      <th>uid.1</th>\n",
       "      <th>dt</th>\n",
       "      <th>device.1</th>\n",
       "      <th>spent</th>\n",
       "    </tr>\n",
       "  </thead>\n",
       "  <tbody>\n",
       "    <tr>\n",
       "      <th>0</th>\n",
       "      <td>1000000</td>\n",
       "      <td>B</td>\n",
       "      <td>2023-01-28</td>\n",
       "      <td>I</td>\n",
       "      <td>1000000</td>\n",
       "      <td>CAN</td>\n",
       "      <td>M</td>\n",
       "      <td>NaN</td>\n",
       "      <td>NaN</td>\n",
       "      <td>NaN</td>\n",
       "      <td>NaN</td>\n",
       "    </tr>\n",
       "    <tr>\n",
       "      <th>1</th>\n",
       "      <td>1000001</td>\n",
       "      <td>A</td>\n",
       "      <td>2023-01-27</td>\n",
       "      <td>A</td>\n",
       "      <td>1000001</td>\n",
       "      <td>BRA</td>\n",
       "      <td>M</td>\n",
       "      <td>NaN</td>\n",
       "      <td>NaN</td>\n",
       "      <td>NaN</td>\n",
       "      <td>NaN</td>\n",
       "    </tr>\n",
       "    <tr>\n",
       "      <th>2</th>\n",
       "      <td>1000002</td>\n",
       "      <td>A</td>\n",
       "      <td>2023-02-01</td>\n",
       "      <td>A</td>\n",
       "      <td>1000002</td>\n",
       "      <td>FRA</td>\n",
       "      <td>M</td>\n",
       "      <td>NaN</td>\n",
       "      <td>NaN</td>\n",
       "      <td>NaN</td>\n",
       "      <td>NaN</td>\n",
       "    </tr>\n",
       "    <tr>\n",
       "      <th>3</th>\n",
       "      <td>1000003</td>\n",
       "      <td>B</td>\n",
       "      <td>2023-01-25</td>\n",
       "      <td>I</td>\n",
       "      <td>1000003</td>\n",
       "      <td>BRA</td>\n",
       "      <td>M</td>\n",
       "      <td>NaN</td>\n",
       "      <td>NaN</td>\n",
       "      <td>NaN</td>\n",
       "      <td>NaN</td>\n",
       "    </tr>\n",
       "    <tr>\n",
       "      <th>4</th>\n",
       "      <td>1000004</td>\n",
       "      <td>A</td>\n",
       "      <td>2023-02-04</td>\n",
       "      <td>A</td>\n",
       "      <td>1000004</td>\n",
       "      <td>DEU</td>\n",
       "      <td>F</td>\n",
       "      <td>NaN</td>\n",
       "      <td>NaN</td>\n",
       "      <td>NaN</td>\n",
       "      <td>NaN</td>\n",
       "    </tr>\n",
       "  </tbody>\n",
       "</table>\n",
       "</div>"
      ],
      "text/plain": [
       "       uid group     join_dt device       id country gender  uid.1   dt  \\\n",
       "0  1000000     B  2023-01-28      I  1000000     CAN      M    NaN  NaN   \n",
       "1  1000001     A  2023-01-27      A  1000001     BRA      M    NaN  NaN   \n",
       "2  1000002     A  2023-02-01      A  1000002     FRA      M    NaN  NaN   \n",
       "3  1000003     B  2023-01-25      I  1000003     BRA      M    NaN  NaN   \n",
       "4  1000004     A  2023-02-04      A  1000004     DEU      F    NaN  NaN   \n",
       "\n",
       "  device.1  spent  \n",
       "0      NaN    NaN  \n",
       "1      NaN    NaN  \n",
       "2      NaN    NaN  \n",
       "3      NaN    NaN  \n",
       "4      NaN    NaN  "
      ]
     },
     "execution_count": 2,
     "metadata": {},
     "output_type": "execute_result"
    }
   ],
   "source": [
    "### 'df' denotes dataframe\n",
    "df= pd.read_csv('Compiled_dataset.csv')\n",
    "df.head()"
   ]
  },
  {
   "cell_type": "code",
   "execution_count": 3,
   "id": "d335db82",
   "metadata": {},
   "outputs": [
    {
     "name": "stdout",
     "output_type": "stream",
     "text": [
      "<class 'pandas.core.frame.DataFrame'>\n",
      "RangeIndex: 49082 entries, 0 to 49081\n",
      "Data columns (total 11 columns):\n",
      " #   Column    Non-Null Count  Dtype  \n",
      "---  ------    --------------  -----  \n",
      " 0   uid       49082 non-null  int64  \n",
      " 1   group     49082 non-null  object \n",
      " 2   join_dt   49082 non-null  object \n",
      " 3   device    48787 non-null  object \n",
      " 4   id        49082 non-null  int64  \n",
      " 5   country   48435 non-null  object \n",
      " 6   gender    42200 non-null  object \n",
      " 7   uid.1     2233 non-null   float64\n",
      " 8   dt        2233 non-null   object \n",
      " 9   device.1  2223 non-null   object \n",
      " 10  spent     2233 non-null   float64\n",
      "dtypes: float64(2), int64(2), object(7)\n",
      "memory usage: 4.1+ MB\n"
     ]
    }
   ],
   "source": [
    "### Displaying the summary of a dataframe's information\n",
    "df.info()"
   ]
  },
  {
   "cell_type": "code",
   "execution_count": 4,
   "id": "ef6f132c",
   "metadata": {
    "scrolled": false
   },
   "outputs": [
    {
     "name": "stderr",
     "output_type": "stream",
     "text": [
      "C:\\Users\\ASUS\\AppData\\Local\\Temp/ipykernel_4192/2548660870.py:5: SettingWithCopyWarning: \n",
      "A value is trying to be set on a copy of a slice from a DataFrame.\n",
      "Try using .loc[row_indexer,col_indexer] = value instead\n",
      "\n",
      "See the caveats in the documentation: https://pandas.pydata.org/pandas-docs/stable/user_guide/indexing.html#returning-a-view-versus-a-copy\n",
      "  df_new['spent']=df_new['spent'].fillna(0)\n",
      "C:\\Users\\ASUS\\anaconda3\\lib\\site-packages\\pandas\\core\\frame.py:3641: SettingWithCopyWarning: \n",
      "A value is trying to be set on a copy of a slice from a DataFrame.\n",
      "Try using .loc[row_indexer,col_indexer] = value instead\n",
      "\n",
      "See the caveats in the documentation: https://pandas.pydata.org/pandas-docs/stable/user_guide/indexing.html#returning-a-view-versus-a-copy\n",
      "  self[k1] = value[k2]\n"
     ]
    }
   ],
   "source": [
    "### Creating a new dataframe (df_new) that includes only the necessary columns from the original dataset\n",
    "df_new= df[['uid','join_dt','group','device','country','gender','spent']]\n",
    "\n",
    "### Not all the customers made a purchase, hence filling the NaN valuses with 0\n",
    "df_new['spent']=df_new['spent'].fillna(0)\n",
    "\n",
    "### some of the values in these columns were missing, hence filling those fields with 'Missing' values\n",
    "df_new[['gender','country','device']]= df_new[['gender','country','device']].fillna('Missing')"
   ]
  },
  {
   "cell_type": "markdown",
   "id": "bbfd004c",
   "metadata": {},
   "source": [
    "##### Question 1: What is the average amount spent per user for the control and treatment groups?"
   ]
  },
  {
   "cell_type": "code",
   "execution_count": 5,
   "id": "9484379a",
   "metadata": {},
   "outputs": [],
   "source": [
    "### Removing the duplicated user's id from the dataset and including how much each custimer spent in total\n",
    "each_customer_spent= df_new.groupby(['uid','group'])['spent'].sum().reset_index()\n",
    "\n",
    "### Finding the average amount spent per user in both groups (Control='A' & Treatment= 'B')\n",
    "control_treatment_mean= each_customer_spent.groupby('group')['spent'].mean().reset_index()\n"
   ]
  },
  {
   "cell_type": "markdown",
   "id": "1e73dec4",
   "metadata": {},
   "source": [
    "##### Question 2: What is the 95% confidence interval for the average amount spent per user in the control?\n",
    "\n",
    "Using the one-sample t-interval for means"
   ]
  },
  {
   "cell_type": "code",
   "execution_count": 6,
   "id": "bbe52afc",
   "metadata": {},
   "outputs": [
    {
     "name": "stdout",
     "output_type": "stream",
     "text": [
      "(\"The 'Lower' and the 'Upper' bound of the Confidence Interval: \", 3.0486876385878507, 3.7003492972698315)\n"
     ]
    }
   ],
   "source": [
    "### Defining the level of significance\n",
    "alpha=1-.95\n",
    "\n",
    "### Outlaying the average amount spent per user in control group\n",
    "control_mean=control_treatment_mean[control_treatment_mean['group']== 'A']['spent'][0]\n",
    "\n",
    "### creating a dataframe that includes data (coulmns: user id, group, spent) for only the customers from the control group\n",
    "control_group_df= each_customer_spent[each_customer_spent['group']=='A']\n",
    "\n",
    "### Sample size for the control group\n",
    "n_control_group= control_group_df[control_group_df['group']=='A']['uid'].count()\n",
    "\n",
    "### Defining the standard deviation (Standard Error) of the control group\n",
    "control_std=control_group_df['spent'].std()\n",
    "\n",
    "### Degrees of freedom for the control group\n",
    "degrees_of_freedom= n_control_group-1\n",
    "\n",
    "### Finding the critical T-score\n",
    "t_score= s.t.ppf(1 - alpha/2, degrees_of_freedom)\n",
    "\n",
    "### Calculating the Confidence Interval of the Control Group (based on Control group's average ampunt spent per user)\n",
    "confidence_interval_control_mean_higher_bound= control_mean+t_score*control_std/m.sqrt(n_control_group)\n",
    "confidence_interval_control_mean_lower_bound= control_mean-t_score*control_std/m.sqrt(n_control_group)\n",
    "\n",
    "### Printing the lower and the upper bound of the Confidence Interval\n",
    "print((\"The 'Lower' and the 'Upper' bound of the Confidence Interval: \",confidence_interval_control_mean_lower_bound,confidence_interval_control_mean_higher_bound))"
   ]
  },
  {
   "cell_type": "markdown",
   "id": "cbf4b105",
   "metadata": {},
   "source": [
    "##### Question 3: What is the 95% confidence interval for the average amount spent per user in the treatment?\n",
    "Using the one-sample t-interval for means"
   ]
  },
  {
   "cell_type": "code",
   "execution_count": 7,
   "id": "c52c1c25",
   "metadata": {},
   "outputs": [
    {
     "name": "stdout",
     "output_type": "stream",
     "text": [
      "The 'Lower' and the 'Upper' bound of the Confidence Interval: 3.0732696431556232 - 3.7084642486159436\n"
     ]
    }
   ],
   "source": [
    "### Outlaying the average amount spent per user in treatment group\n",
    "treatment_mean=control_treatment_mean[control_treatment_mean['group']== 'B']['spent'][1]\n",
    "\n",
    "### creating a dataframe that includes data (coulmns: user id, group, spent) for only the customers from the treatment group\n",
    "treatment_group_df= each_customer_spent[each_customer_spent['group']=='B']\n",
    "\n",
    "### Sample size for the treatment group\n",
    "n_treatment_group= treatment_group_df[treatment_group_df['group']=='B']['uid'].count()\n",
    "\n",
    "### Defining the standard deviation (Standard Error) of the treatment group\n",
    "treatment_std=treatment_group_df['spent'].std()\n",
    "\n",
    "### Degrees of freedom for the treatment group\n",
    "degrees_of_freedom= n_treatment_group-1\n",
    "\n",
    "### Finding the critical T-score\n",
    "t_score= s.t.ppf(1 - alpha/2, degrees_of_freedom)\n",
    "\n",
    "### Calculating the Confidence Interval of the treatment Group (based on Treatment group's average ampunt spent per user)\n",
    "confidence_interval_control_mean_higher_bound= treatment_mean+t_score*treatment_std/m.sqrt(n_treatment_group)\n",
    "confidence_interval_control_mean_lower_bound= treatment_mean-t_score*treatment_std/m.sqrt(n_treatment_group)\n",
    "\n",
    "### Printing the lower and the upper bound of the Confidence Interval\n",
    "print((\"The 'Lower' and the 'Upper' bound of the Confidence Interval: {} - {}\".format(confidence_interval_control_mean_lower_bound,confidence_interval_control_mean_higher_bound)))"
   ]
  },
  {
   "cell_type": "markdown",
   "id": "a01c3c1a",
   "metadata": {},
   "source": [
    "##### Question 4: Conduct a hypothesis test to see whether there is a difference in the average amount spent per user between the two groups. What are the resulting p-value and conclusion?\n",
    "\n",
    "Using the t distribution and a 5% significance level. Assuming unequal variance.\n",
    "\n",
    "                             H0: Control mean = Treatment mean\n",
    "                             H1: Control mean ≠ Treatment mean\n"
   ]
  },
  {
   "cell_type": "code",
   "execution_count": 8,
   "id": "7d84590e",
   "metadata": {},
   "outputs": [
    {
     "name": "stdout",
     "output_type": "stream",
     "text": [
      "p_value:  0.9438557528933296\n",
      "alpha:  0.050000000000000044\n",
      "p_value > alpha:  0.9438557528933296 > 0.050000000000000044\n",
      "The decision: As the p-value 0.9438557528933296 is way larger than our level of significane 0.050000000000000044, the differene of mean bewteen these two groups is not statistically significant, hence we cant reject the null hypothesis which implies that the average amount spent per user in the control and treatment group is the same and the banner doesn't make any difference. This suggests us not to proceed with the change.\n"
     ]
    }
   ],
   "source": [
    "### Differences of mean between these two groups\n",
    "mean_difference= treatment_mean-control_mean\n",
    "\n",
    "### Standard Error for the Mean difference\n",
    "se=np.sqrt(((control_std**2)/(n_control_group)) + ((treatment_std**2)/(n_treatment_group)))\n",
    "\n",
    "### Calculated t-score for the mean difference\n",
    "t_score_mean_difference= mean_difference/se\n",
    "\n",
    "### Degrees of Freedom for the two groups\n",
    "cum_degrees_freedom= (n_treatment_group+n_control_group)-1\n",
    "\n",
    "### Calculating p-value for the mean difference\n",
    "p_value=(1-t.cdf(t_score_mean_difference, cum_degrees_freedom))*2\n",
    "\n",
    "### Pring the p-value, level of significance and comparison between p-value and level of significance\n",
    "print('p_value: ', p_value); print('alpha: ', alpha); print('p_value > alpha: ', p_value, '>', alpha)\n",
    "\n",
    "### The decision:            \n",
    "print(\"The decision: As the p-value {} is way larger than our level of significane {}, the differene of mean bewteen these two groups is not statistically significant, hence we cant reject the null hypothesis which implies that the average amount spent per user in the control and treatment group is the same and the banner doesn't make any difference. This suggests us not to proceed with the change.\". format(p_value,alpha))\n"
   ]
  },
  {
   "cell_type": "markdown",
   "id": "f6d8f417",
   "metadata": {},
   "source": [
    "##### Question 5: What is the 95% confidence interval for the difference in the average amount spent per user between the treatment and the control (treatment-control)? \n",
    "Use the t distribution and assume unequal variance.\n"
   ]
  },
  {
   "cell_type": "code",
   "execution_count": 9,
   "id": "4934f938",
   "metadata": {},
   "outputs": [
    {
     "name": "stdout",
     "output_type": "stream",
     "text": [
      "Confidence Interval for the difference in the mean anount spent is: -0.43866104473639217  to   0.4713580006502767\n",
      "The Decision:\n",
      "The confidence interval for the mean difference of the amount spent by the control and treatment groups ranges from -0.43866104473639217 to 0.4713580006502767 Since the lower bound includes 0, it suggests that there is a possibility that the population mean difference may fall into zero, indicating that there might be no impact of the change. This also implies that there might be no difference between the mean amount spent by either group. Furthermore, our p-value for the mean difference does not provide enough evidence to reject the null hypothesis, which states that the difference between the means is not statistically significant. Therefore, it is not recommended to implement the change as there is no statistically significant difference in the spending behavior between the control and treatment groups.\n"
     ]
    }
   ],
   "source": [
    "### Differences of mean between these two groups\n",
    "mean_difference\n",
    "\n",
    "### Calculating the t-score for the two groups \n",
    "t_score= s.t.ppf(1 - alpha/2, degrees_of_freedom)\n",
    "\n",
    "### Standard Error for the Mean difference\n",
    "se\n",
    "\n",
    "### Calculating the Confidence Interval for the difference in the mean amount spent per user between the treatment and the control\n",
    "CI_mean_difference_higher_bound= mean_difference+t_score*se\n",
    "CI_mean_difference_lower_bound= mean_difference-t_score*se\n",
    "\n",
    "\n",
    "print(\"Confidence Interval for the difference in the mean anount spent is: {}  to   {}\".format(CI_mean_difference_lower_bound,CI_mean_difference_higher_bound))\n",
    "\n",
    "print(\"The Decision:\")\n",
    "print(\"The confidence interval for the mean difference of the amount spent by the control and treatment groups ranges from {} to {} Since the lower bound includes 0, it suggests that there is a possibility that the population mean difference may fall into zero, indicating that there might be no impact of the change. This also implies that there might be no difference between the mean amount spent by either group. Furthermore, our p-value for the mean difference does not provide enough evidence to reject the null hypothesis, which states that the difference between the means is not statistically significant. Therefore, it is not recommended to implement the change as there is no statistically significant difference in the spending behavior between the control and treatment groups.\".format(CI_mean_difference_lower_bound,CI_mean_difference_higher_bound))"
   ]
  },
  {
   "cell_type": "markdown",
   "id": "ab653ab2",
   "metadata": {},
   "source": [
    "##### Question 6: What is the user conversion rate for the control and treatment groups?\n",
    " calculating the control and treatment groups' coversion rate (proportion)\n",
    " \n",
    "\n"
   ]
  },
  {
   "cell_type": "code",
   "execution_count": 10,
   "id": "829b1494",
   "metadata": {},
   "outputs": [
    {
     "name": "stdout",
     "output_type": "stream",
     "text": [
      "conversion rate for control group is:  3.9230990428459926\n",
      "conversion rate for treatment group is:  4.630081300813008\n"
     ]
    }
   ],
   "source": [
    "### control group proportion (conversion rate): \n",
    "n_control_group ## Total size of the control group \n",
    "control_converted_customer= each_customer_spent[(each_customer_spent['group']=='A') & (each_customer_spent['spent']>0)].shape[0] ## Number of converted customers in the control group\n",
    "control_converted_proportion= control_converted_customer/n_control_group ## Conversion rate in the control group\n",
    "\n",
    "\n",
    "### treatment group proportion: \n",
    "n_treatment_group ## Total size of the treatment group \n",
    "treatment_converted_customer= each_customer_spent[(each_customer_spent['group']=='B') & (each_customer_spent['spent']>0)].shape[0] ## Number of converted customers in the treatment group\n",
    "treatment_converted_proportion= treatment_converted_customer/n_treatment_group ## Conversion rate in the treatment group\n",
    "\n",
    "print('conversion rate for control group is: ', control_converted_proportion*100)\n",
    "print('conversion rate for treatment group is: ', treatment_converted_proportion*100)"
   ]
  },
  {
   "cell_type": "markdown",
   "id": "ca25dce8",
   "metadata": {},
   "source": [
    "##### Question 7: What is the 95% confidence interval for the conversion rate of users in the control?\n",
    "Using a one-sample z-interval for proportions assuming the distribution is normal\n"
   ]
  },
  {
   "cell_type": "code",
   "execution_count": 11,
   "id": "95203523",
   "metadata": {},
   "outputs": [
    {
     "name": "stdout",
     "output_type": "stream",
     "text": [
      "Confidence interval for control proportion: 0.03679201996899026  to  0.0416699608879296.\n"
     ]
    }
   ],
   "source": [
    "### Statistics needed for calculating the confidence interval for the conversion rate of users in the control\n",
    "control_converted_proportion ## Conversion rate in the treatment group\n",
    "t_score ## Z-score\n",
    "control_not_converted_proportion= 1-control_converted_proportion ## proporting not converted in the control group\n",
    "\n",
    "confidence_interval_control_proportion_higher_bound=  control_converted_proportion+ t_score * np.sqrt(control_converted_proportion*control_not_converted_proportion/n_control_group)\n",
    "confidence_interval_control_proportion_lower_bound= control_converted_proportion- t_score * np.sqrt(control_converted_proportion*control_not_converted_proportion/n_control_group)\n",
    "print('Confidence interval for control proportion: {}  to  {}.'.format(confidence_interval_control_proportion_lower_bound,confidence_interval_control_proportion_higher_bound))"
   ]
  },
  {
   "cell_type": "markdown",
   "id": "9e396987",
   "metadata": {},
   "source": [
    "##### Question 7: What is the 95% confidence interval for the conversion rate of users in the control?\n",
    "Using a one-sample z-interval for proportions assuming the distribution is normal"
   ]
  },
  {
   "cell_type": "code",
   "execution_count": 12,
   "id": "ab1b7549",
   "metadata": {},
   "outputs": [
    {
     "name": "stdout",
     "output_type": "stream",
     "text": [
      "Confidence interval for treatment proportion: 0.043674769473172705  to  0.04892685654308746.\n"
     ]
    }
   ],
   "source": [
    "### Statistics needed for calculating the confidence interval for the conversion rate of users in the control\n",
    "treatment_converted_proportion ## Conversion rate in the treatment group\n",
    "t_score ## Z-score\n",
    "treatment_not_converted_proportion= 1-treatment_converted_proportion ## proporting not converted in the control group\n",
    "\n",
    "confidence_interval_treatment_proportion_higher_bound=  treatment_converted_proportion+ t_score * np.sqrt(treatment_converted_proportion*treatment_not_converted_proportion/n_treatment_group)\n",
    "confidence_interval_treatment_proportion_lower_bound= treatment_converted_proportion- t_score * np.sqrt(treatment_converted_proportion*treatment_not_converted_proportion/n_treatment_group)\n",
    "print('Confidence interval for treatment proportion: {}  to  {}.'.format(confidence_interval_treatment_proportion_lower_bound,confidence_interval_treatment_proportion_higher_bound))"
   ]
  },
  {
   "cell_type": "markdown",
   "id": "718b8882",
   "metadata": {},
   "source": [
    "##### Question 8: Conduct a hypothesis test to see whether there is a difference in the conversion rate between the two groups. What are the resulting p-value and conclusion? This question is required.*\n",
    "Use the normal distribution and a 5% significance level. Use the pooled proportion for the standard error.\n",
    "\n",
    "                         H0: Convertion rate (proportion) of control group = Convertion rate (proportion) of treatment group\n",
    "                         H1: Convertion rate (proportion) of control group ≠ Convertion rate (proportion) of treatment group"
   ]
  },
  {
   "cell_type": "code",
   "execution_count": 13,
   "id": "3e038f6f",
   "metadata": {},
   "outputs": [
    {
     "name": "stdout",
     "output_type": "stream",
     "text": [
      "p value is: 0.00019048844081203466\n",
      "level of significance is: 0.050000000000000044\n",
      "p_value < alpha: 0.00019048844081203466 < 0.050000000000000044.\n",
      "The decision based on proportion difference is below:\n",
      "The p-value 0.00019048844081203466 is below the level of significance 0.050000000000000044, which indicates that there is a statistically significant difference between the conversion rate (difference in proportion) of the control and treatment groups. Therefore, we can reject the null hypothesis that implies that the conversion rate (proportion) of the control group and conversion rate (proportion) of the treatment group is the same or there is no difference. Instead, we can conclude that the banner has a significant impact on the conversion rate. This suggests that we can proceed with the change and add the banner to the website if we want to increase our conversion rate.\n"
     ]
    }
   ],
   "source": [
    "### Difference of proportion converted (conversion rate) bewteen the control and the treatment group\n",
    "proportion_difference= treatment_converted_proportion- control_converted_proportion\n",
    "\n",
    "### pooled proportion for the standard error (for difference of proportion)\n",
    "pooled_proportion_se= np.sqrt((treatment_converted_proportion*treatment_not_converted_proportion/n_treatment_group)+(treatment_converted_proportion*treatment_not_converted_proportion/n_treatment_group))\n",
    "\n",
    "### Calculated Z-score\n",
    "calculated_z_score= proportion_difference/pooled_proportion_se\n",
    "\n",
    "### P-value for the difference in the proportion (conversion rate)\n",
    "p_value_proportion= 2 * s.norm.sf(abs(calculated_z_score))\n",
    "\n",
    "\n",
    "print('p value is: {}'.format(p_value_proportion))\n",
    "print('level of significance is: {}'.format(1-(1-alpha)))\n",
    "print('p_value < alpha: {} < {}.'.format(p_value_proportion, 1-(1-alpha)))\n",
    "print('The decision based on proportion difference is below:')\n",
    "print(\"The p-value {} is below the level of significance {}, which indicates that there is a statistically significant difference between the conversion rate (difference in proportion) of the control and treatment groups. Therefore, we can reject the null hypothesis that implies that the conversion rate (proportion) of the control group and conversion rate (proportion) of the treatment group is the same or there is no difference. Instead, we can conclude that the banner has a significant impact on the conversion rate. This suggests that we can proceed with the change and add the banner to the website if we want to increase our conversion rate.\".format(p_value_proportion, 1-(1-alpha)))\n",
    "\n"
   ]
  },
  {
   "cell_type": "markdown",
   "id": "0afe8ff2",
   "metadata": {},
   "source": [
    "##### Question 9: What is the 95% confidence interval for the difference in the conversion rate between the treatment and control (treatment-control)? This question is required.*\n",
    "Using a two-sample two-tailed z-interval for a difference in proportions. Assuming equal proportions, we use the pooled standard error."
   ]
  },
  {
   "cell_type": "code",
   "execution_count": 14,
   "id": "1ab0e0e6",
   "metadata": {},
   "outputs": [
    {
     "name": "stdout",
     "output_type": "stream",
     "text": [
      "confidence interval for proportion difference (conversion rate) is: 0.0034860511629807105 to 0.0106535939963596\n",
      "The decison:\n",
      "The confidence interval for the conversion rate shows that both the lower and upper bounds are positive, ranging from 0.0034860511629807105 to 0.0106535939963596. This means that 95% of the time, the true conversion rate in the population will fall within this range and will be positive, indicating a high likelihood that the banner will have a positive impact on the conversion rate. As both ends of the confidence interval are positive, we can conclude that the banner will likely have a positive impact on the conversion rate. Furthermore, the difference in conversion rate between the control and treatment groups is statistically significant, as evidenced by the p-value for the difference in proportion of conversions. This provides strong evidence against the null hypothesis, which assumes no difference in conversion rate between the groups, and suggests that a difference does indeed exist. Thus, we can conclude that installing the banner on the website will likely increase the conversion rate, and should be considered to improve website performance.\n"
     ]
    }
   ],
   "source": [
    "### Difference of proportion converted (conversion rate) bewteen the control and the treatment group\n",
    "proportion_difference\n",
    "\n",
    "### Critical Z-score\n",
    "z_score = norm.ppf(1 - alpha/2)\n",
    "\n",
    "### Standard Error for the difference in the conversion rate between the treatment and control (pooled standard error)\n",
    "se_proportion_difference= np.sqrt((control_converted_proportion*control_not_converted_proportion/n_control_group)+(treatment_converted_proportion*treatment_not_converted_proportion/n_treatment_group))\n",
    "\n",
    "### Merginal error for the difference in the conversion rate between the treatment and control \n",
    "me_proportion_difference= z_score*se_proportion_difference\n",
    "\n",
    "### confidence interval for the difference in the conversion rate between the treatment and control \n",
    "confidence_interval_proportion_difference_higher_bound= proportion_difference+me_proportion_difference\n",
    "confidence_interval_proportion_difference_lower_bound=proportion_difference-me_proportion_difference\n",
    "print('confidence interval for proportion difference (conversion rate) is: {} to {}'. format(confidence_interval_proportion_difference_lower_bound,confidence_interval_proportion_difference_higher_bound))\n",
    "print('The decison:')\n",
    "print(\"The confidence interval for the conversion rate shows that both the lower and upper bounds are positive, ranging from 0.0034860511629807105 to 0.0106535939963596. This means that 95% of the time, the true conversion rate in the population will fall within this range and will be positive, indicating a high likelihood that the banner will have a positive impact on the conversion rate. As both ends of the confidence interval are positive, we can conclude that the banner will likely have a positive impact on the conversion rate. Furthermore, the difference in conversion rate between the control and treatment groups is statistically significant, as evidenced by the p-value for the difference in proportion of conversions. This provides strong evidence against the null hypothesis, which assumes no difference in conversion rate between the groups, and suggests that a difference does indeed exist. Thus, we can conclude that installing the banner on the website will likely increase the conversion rate, and should be considered to improve website performance.\")"
   ]
  },
  {
   "cell_type": "code",
   "execution_count": 20,
   "id": "194a2a85",
   "metadata": {},
   "outputs": [
    {
     "name": "stdout",
     "output_type": "stream",
     "text": [
      "The final decision:\n",
      "Based on our analysis, while the conversion rate shows statistical significance, we would advise against launching the banner on the website. Our recommendation is based on the fact that the observed change in the average amount per user spent, resulting from the conversion rate, is not statistically significant enough to yield a substantial increase in sales. Therefore, we propose either not launching the banner or conducting another test with a larger sample size to arrive at a more definitive conclusion.\n"
     ]
    }
   ],
   "source": [
    "print(\"The final decision:\")\n",
    "print(\"Based on our analysis, while the conversion rate shows statistical significance, we would advise against launching the banner on the website. Our recommendation is based on the fact that the observed change in the average amount per user spent, resulting from the conversion rate, is not statistically significant enough to yield a substantial increase in sales. Therefore, we propose either not launching the banner or conducting another test with a larger sample size to arrive at a more definitive conclusion.\")"
   ]
  },
  {
   "cell_type": "markdown",
   "id": "a8953e8c",
   "metadata": {},
   "source": [
    "### Visualizing the Result\n",
    "\n",
    "##### Visualizing the Mean amount spent per customer in the Control and the Treatment Group"
   ]
  },
  {
   "cell_type": "code",
   "execution_count": 21,
   "id": "212188fc",
   "metadata": {
    "scrolled": true
   },
   "outputs": [
    {
     "data": {
      "image/png": "[encoded data removed]",
      "text/plain": [
       "<Figure size 576x432 with 1 Axes>"
      ]
     },
     "metadata": {
      "needs_background": "light"
     },
     "output_type": "display_data"
    }
   ],
   "source": [
    "import matplotlib.pyplot as plt\n",
    "\n",
    "# Calculate the mean and standard deviation of the 'spent' column for each group\n",
    "means = each_customer_spent.groupby('group')['spent'].mean().values.tolist()\n",
    "stds = each_customer_spent.groupby('group')['spent'].std().values.tolist()\n",
    "\n",
    "# Set up the plot\n",
    "fig, ax = plt.subplots(figsize=(8, 6))  # set figure size\n",
    "\n",
    "# Create the bar chart with error bars\n",
    "ax.bar(['Control Group', 'Treatment Group'], means, yerr=stds, capsize=5, width=0.5)\n",
    "\n",
    "# Add labels to the means\n",
    "for i, mean in enumerate(means):\n",
    "    ax.text(i, mean + 0.5, f'{mean:.4f}', ha='left')\n",
    "\n",
    "# Set the axis labels and title\n",
    "ax.set_xlabel('Group')\n",
    "ax.set_ylabel('Mean Spent')\n",
    "ax.set_title('The average amount spent per customer')\n",
    "\n",
    "# Set the Y axis limits\n",
    "ax.set_ylim(-30, 40)\n",
    "\n",
    "# Set Y ticker\n",
    "ax.set_yticks(range(-30, 41, 5))\n",
    "\n",
    "\n",
    "# Display the plot\n",
    "plt.show();\n"
   ]
  },
  {
   "cell_type": "markdown",
   "id": "feddcc43",
   "metadata": {},
   "source": [
    "##### ##### Visualizing the Conversion Rate in Control and Treatment Groups"
   ]
  },
  {
   "cell_type": "code",
   "execution_count": 17,
   "id": "0d779743",
   "metadata": {},
   "outputs": [
    {
     "data": {
      "image/png": "[encoded data removed]",
      "text/plain": [
       "<Figure size 576x432 with 1 Axes>"
      ]
     },
     "metadata": {
      "needs_background": "light"
     },
     "output_type": "display_data"
    }
   ],
   "source": [
    "# defining the conversions rate\n",
    "control_convertion= control_converted_proportion*100\n",
    "treatment_proportion=treatment_converted_proportion*100\n",
    "proportions=[control_convertion,treatment_proportion]\n",
    "\n",
    "# defining the lables\n",
    "labels = ['Control', 'Treatment']\n",
    "\n",
    "# Set up the plot\n",
    "fig, ax = plt.subplots(figsize=(8, 6))\n",
    "\n",
    "# Create the bar chart\n",
    "ax.bar(labels, proportions)\n",
    "\n",
    "# Add labels to the bars\n",
    "for i, prop in enumerate(proportions):\n",
    "    ax.text(i, prop + 0.1, f'{prop:.3f}')\n",
    "\n",
    "# Set the axis labels and title\n",
    "ax.set_xlabel('Group')\n",
    "ax.set_ylabel('Proportion')\n",
    "ax.set_title('Conversion Rate in Control and Treatment Groups')\n",
    "\n",
    "# Display the plot\n",
    "plt.show()\n"
   ]
  },
  {
   "cell_type": "code",
   "execution_count": 18,
   "id": "361db97d",
   "metadata": {},
   "outputs": [
    {
     "data": {
      "text/plain": [
       "0.7069822579670155"
      ]
     },
     "execution_count": 18,
     "metadata": {},
     "output_type": "execute_result"
    }
   ],
   "source": [
    "\n"
   ]
  },
  {
   "cell_type": "code",
   "execution_count": null,
   "id": "ef8e8ff4",
   "metadata": {},
   "outputs": [],
   "source": []
  }
 ],
 "metadata": {
  "kernelspec": {
   "display_name": "Python 3 (ipykernel)",
   "language": "python",
   "name": "python3"
  },
  "language_info": {
   "codemirror_mode": {
    "name": "ipython",
    "version": 3
   },
   "file_extension": ".py",
   "mimetype": "text/x-python",
   "name": "python",
   "nbconvert_exporter": "python",
   "pygments_lexer": "ipython3",
   "version": "3.9.7"
  }
 },
 "nbformat": 4,
 "nbformat_minor": 5
}
